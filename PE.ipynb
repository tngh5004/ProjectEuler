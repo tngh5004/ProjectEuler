{
 "cells": [
  {
   "cell_type": "code",
   "execution_count": 34,
   "metadata": {},
   "outputs": [],
   "source": [
    "import math"
   ]
  },
  {
   "cell_type": "code",
   "execution_count": 4,
   "metadata": {},
   "outputs": [
    {
     "name": "stdout",
     "output_type": "stream",
     "text": [
      "233168\n"
     ]
    }
   ],
   "source": [
    "# sum of multiflies\n",
    "def Prob1(num1, num2, limit):\n",
    "    temp_1 = sum(range(0, limit, num1))\n",
    "    temp_2 = sum(range(0, limit, num2))\n",
    "    answer = temp_1 + temp_2 - sum(range(0, limit, num1*num2))\n",
    "    return answer\n",
    "\n",
    "a, b, limit = 3, 5, 1000\n",
    "print(Prob1(a, b, limit))"
   ]
  },
  {
   "cell_type": "code",
   "execution_count": 37,
   "metadata": {},
   "outputs": [
    {
     "name": "stdout",
     "output_type": "stream",
     "text": [
      "[2, 8, 34, 144, 610, 2584, 10946, 46368, 196418, 832040, 3524578]\n",
      "4613732\n",
      "4613732\n"
     ]
    }
   ],
   "source": [
    "def Prob2(limit):\n",
    "    pibo = [1, 2]\n",
    "    answer = []\n",
    "    for i in range(int(limit)):\n",
    "        if i == (pibo[-2] + pibo[-1]):\n",
    "            pibo.append(i)\n",
    "        \n",
    "    for i in pibo:\n",
    "        if i % 2 == 0:\n",
    "            answer.append(i)\n",
    "            \n",
    "    return (answer)\n",
    "    \n",
    "print(Prob2(4*1e6))\n",
    "print(sum(Prob2(4*1e6)))\n",
    "\n",
    "def PE002(M=4000000):\n",
    "    a, b, S  =  0, 1, 0\n",
    "    while b<=M:\n",
    "        a, b =  b, a+b\n",
    "        if a%2==0: S+=a\n",
    "    return S\n",
    "\n",
    "print(PE002())"
   ]
  }
 ],
 "metadata": {
  "kernelspec": {
   "display_name": "OCR_py311",
   "language": "python",
   "name": "python3"
  },
  "language_info": {
   "codemirror_mode": {
    "name": "ipython",
    "version": 3
   },
   "file_extension": ".py",
   "mimetype": "text/x-python",
   "name": "python",
   "nbconvert_exporter": "python",
   "pygments_lexer": "ipython3",
   "version": "3.11.9"
  },
  "orig_nbformat": 4
 },
 "nbformat": 4,
 "nbformat_minor": 2
}

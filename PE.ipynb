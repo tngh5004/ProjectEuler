{
 "cells": [
  {
   "cell_type": "code",
   "execution_count": null,
   "metadata": {},
   "outputs": [],
   "source": [
    "import math\n"
   ]
  },
  {
   "cell_type": "code",
   "execution_count": 4,
   "metadata": {},
   "outputs": [
    {
     "name": "stdout",
     "output_type": "stream",
     "text": [
      "233168\n"
     ]
    }
   ],
   "source": [
    "# sum of multiflies\n",
    "def Sumofmul(num1, num2, limit):\n",
    "    temp_1 = sum(range(0, limit, num1))\n",
    "    temp_2 = sum(range(0, limit, num2))\n",
    "    answer = temp_1 + temp_2 - sum(range(0, limit, num1*num2))\n",
    "    return answer\n",
    "\n",
    "a, b, limit = 3, 5, 1000\n",
    "print(Sumofmul(a, b, limit))"
   ]
  }
 ],
 "metadata": {
  "kernelspec": {
   "display_name": "OCR_py311",
   "language": "python",
   "name": "python3"
  },
  "language_info": {
   "codemirror_mode": {
    "name": "ipython",
    "version": 3
   },
   "file_extension": ".py",
   "mimetype": "text/x-python",
   "name": "python",
   "nbconvert_exporter": "python",
   "pygments_lexer": "ipython3",
   "version": "3.11.9"
  },
  "orig_nbformat": 4
 },
 "nbformat": 4,
 "nbformat_minor": 2
}
